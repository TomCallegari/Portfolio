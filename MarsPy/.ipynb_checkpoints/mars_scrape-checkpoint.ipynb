{
 "cells": [
  {
   "cell_type": "code",
   "execution_count": 1,
   "metadata": {},
   "outputs": [],
   "source": [
    "from bs4 import BeautifulSoup as bs\n",
    "import time\n",
    "from splinter import Browser\n",
    "import pandas as pd"
   ]
  },
  {
   "cell_type": "code",
   "execution_count": 2,
   "metadata": {},
   "outputs": [],
   "source": [
    "def init_browser():\n",
    "    executable_path = {'executable_path': 'chromedriver.exe'}\n",
    "    return Browser('chrome', **executable_path, headless=False)"
   ]
  },
  {
   "cell_type": "code",
   "execution_count": 3,
   "metadata": {},
   "outputs": [],
   "source": [
    "def mars_scrape():\n",
    "    \n",
    "    # Mars news\n",
    "    browser = init_browser()   \n",
    "    news_url = 'http://mars.nasa.gov/news/'\n",
    "    browser.visit(news_url)\n",
    "    news_html = browser.html   \n",
    "    \n",
    "    news_soup = bs(news_html, 'html.parser')        \n",
    "    news_date = news_soup.find('ul', class_='item_list').find('div', class_='list_date').text\n",
    "    news_title = news_soup.find('ul', class_='item_list').find('div', class_='content_title').text\n",
    "    news_teaser = news_soup.find('ul', class_='item_list').find('div', class_='article_teaser_body').text\n",
    "    \n",
    "    # Featured image\n",
    "    image_url = 'http://www.jpl.nasa.gov/spaceimages/?search=&category=Mars'\n",
    "    browser.visit(image_url)\n",
    "    image_html = browser.html\n",
    "    \n",
    "    image_soup = bs(image_html, 'html.parser')        \n",
    "    image_jpg = image_soup.find('ul', class_='articles').find('img', class_='thumb')['src']\n",
    "    image_title = image_soup.find('ul', class_='articles').find('div', class_='item_tease_overlay').text\n",
    "    \n",
    "    # Mars weather\n",
    "    weather_url = 'https://twitter.com/marswxreport?lang=en'\n",
    "    browser.visit(weather_url)\n",
    "    weather_html = browser.html\n",
    "    \n",
    "    weather_soup = bs(weather_html, 'html.parser')        \n",
    "    weather_text = weather_soup.find('div', class_='js-tweet-text-container').text.strip()   \n",
    "    \n",
    "    # Mars facts\n",
    "    facts_url = 'https://space-facts.com/mars/'\n",
    "    mars_tables = pd.read_html(facts_url)    \n",
    "    mars_facts = mars_tables[1]\n",
    "    mars_html = mars_facts.to_html()\n",
    "    \n",
    "    # Hemispheres\n",
    "    hemi_page = 'https://astrogeology.usgs.gov/search/results?q=hemisphere+enhanced&k1=target&v1=Mars'\n",
    "    browser.visit(hemi_page)\n",
    "\n",
    "    hemi_html = browser.html\n",
    "    hemi_soup = bs(browser.html, 'html.parser')\n",
    "    hemi_list = hemi_soup.find_all('div', {'class': 'item'})\n",
    "\n",
    "    links = []\n",
    "    for hemi in hemi_list:\n",
    "        link_url = hemi.find('a', {'class': 'itemLink product-item'})['href']\n",
    "        links.append(link_url)\n",
    "    \n",
    "    main_page = 'https://astrogeology.usgs.gov/'\n",
    "    \n",
    "    jpg_links = []\n",
    "    for i in range(0, 4):\n",
    "        browser.visit(main_page + links[i])\n",
    "        hemi_html = browser.html\n",
    "        hemi_soup = bs(hemi_html, 'html.parser')\n",
    "        jpg_links.append(hemi_soup.find('a', {'target': '_blank'})['href'])\n",
    "    \n",
    "    # Main dict to return    \n",
    "    mars_dict = {\n",
    "        'date': news_date,\n",
    "        'title': news_title,\n",
    "        'teaser': news_teaser,\n",
    "        'image_jpg': image_jpg,\n",
    "        'image_title': image_title,\n",
    "        'weather_text': weather_text,\n",
    "        'mars_facts': mars_html,\n",
    "        'hemispheres': jpg_links\n",
    "    }\n",
    "    \n",
    "    browser.quit()\n",
    "    \n",
    "    return mars_dict"
   ]
  },
  {
   "cell_type": "code",
   "execution_count": 4,
   "metadata": {},
   "outputs": [],
   "source": [
    "mars_dict = mars_scrape()"
   ]
  },
  {
   "cell_type": "code",
   "execution_count": 5,
   "metadata": {},
   "outputs": [
    {
     "data": {
      "text/plain": [
       "{'date': 'August 15, 2019',\n",
       " 'title': \"Robotic Toolkit Added to NASA's Mars 2020 Rover\",\n",
       " 'teaser': \"The bit carousel, which lies at the heart of the rover's Sample Caching System, is now aboard NASA's newest rover. \",\n",
       " 'image_jpg': '/spaceimages/images/wallpaper/PIA23384-640x350.jpg',\n",
       " 'image_title': 'Northern Arabia Terra',\n",
       " 'weather_text': 'InSight sol 258 (2019-08-18) low -100.0ºC (-148.1ºF) high -26.2ºC (-15.2ºF)\\nwinds from the SSE at 5.3 m/s (11.9 mph) gusting to 16.8 m/s (37.6 mph)\\npressure at 7.60 hPapic.twitter.com/5nCVjcsmlZ',\n",
       " 'mars_facts': '<table border=\"1\" class=\"dataframe\">\\n  <thead>\\n    <tr style=\"text-align: right;\">\\n      <th></th>\\n      <th>0</th>\\n      <th>1</th>\\n    </tr>\\n  </thead>\\n  <tbody>\\n    <tr>\\n      <th>0</th>\\n      <td>Equatorial Diameter:</td>\\n      <td>6,792 km</td>\\n    </tr>\\n    <tr>\\n      <th>1</th>\\n      <td>Polar Diameter:</td>\\n      <td>6,752 km</td>\\n    </tr>\\n    <tr>\\n      <th>2</th>\\n      <td>Mass:</td>\\n      <td>6.39 × 10^23 kg (0.11 Earths)</td>\\n    </tr>\\n    <tr>\\n      <th>3</th>\\n      <td>Moons:</td>\\n      <td>2 (Phobos &amp; Deimos)</td>\\n    </tr>\\n    <tr>\\n      <th>4</th>\\n      <td>Orbit Distance:</td>\\n      <td>227,943,824 km (1.38 AU)</td>\\n    </tr>\\n    <tr>\\n      <th>5</th>\\n      <td>Orbit Period:</td>\\n      <td>687 days (1.9 years)</td>\\n    </tr>\\n    <tr>\\n      <th>6</th>\\n      <td>Surface Temperature:</td>\\n      <td>-87 to -5 °C</td>\\n    </tr>\\n    <tr>\\n      <th>7</th>\\n      <td>First Record:</td>\\n      <td>2nd millennium BC</td>\\n    </tr>\\n    <tr>\\n      <th>8</th>\\n      <td>Recorded By:</td>\\n      <td>Egyptian astronomers</td>\\n    </tr>\\n  </tbody>\\n</table>',\n",
       " 'hemispheres': ['http://astropedia.astrogeology.usgs.gov/download/Mars/Viking/cerberus_enhanced.tif/full.jpg',\n",
       "  'http://astropedia.astrogeology.usgs.gov/download/Mars/Viking/schiaparelli_enhanced.tif/full.jpg',\n",
       "  'http://astropedia.astrogeology.usgs.gov/download/Mars/Viking/syrtis_major_enhanced.tif/full.jpg',\n",
       "  'http://astropedia.astrogeology.usgs.gov/download/Mars/Viking/valles_marineris_enhanced.tif/full.jpg']}"
      ]
     },
     "execution_count": 5,
     "metadata": {},
     "output_type": "execute_result"
    }
   ],
   "source": [
    "mars_dict"
   ]
  },
  {
   "cell_type": "code",
   "execution_count": 6,
   "metadata": {},
   "outputs": [
    {
     "data": {
      "text/plain": [
       "8"
      ]
     },
     "execution_count": 6,
     "metadata": {},
     "output_type": "execute_result"
    }
   ],
   "source": [
    "len(mars_dict)"
   ]
  },
  {
   "cell_type": "code",
   "execution_count": 9,
   "metadata": {},
   "outputs": [
    {
     "data": {
      "text/plain": [
       "'http://astropedia.astrogeology.usgs.gov/download/Mars/Viking/valles_marineris_enhanced.tif/full.jpg'"
      ]
     },
     "execution_count": 9,
     "metadata": {},
     "output_type": "execute_result"
    }
   ],
   "source": [
    "mars_dict['hemispheres'][3]"
   ]
  },
  {
   "cell_type": "code",
   "execution_count": null,
   "metadata": {},
   "outputs": [],
   "source": []
  }
 ],
 "metadata": {
  "kernelspec": {
   "display_name": "Python 3",
   "language": "python",
   "name": "python3"
  },
  "language_info": {
   "codemirror_mode": {
    "name": "ipython",
    "version": 3
   },
   "file_extension": ".py",
   "mimetype": "text/x-python",
   "name": "python",
   "nbconvert_exporter": "python",
   "pygments_lexer": "ipython3",
   "version": "3.7.3"
  }
 },
 "nbformat": 4,
 "nbformat_minor": 2
}
